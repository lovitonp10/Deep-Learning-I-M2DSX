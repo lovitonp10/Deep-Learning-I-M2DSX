{
 "cells": [
  {
   "cell_type": "code",
   "execution_count": 2,
   "id": "3349d5ec-8394-4eb7-8e05-a2427af5d5a4",
   "metadata": {},
   "outputs": [
    {
     "name": "stdout",
     "output_type": "stream",
     "text": [
      "1.12.1\n",
      "['/Users/pierreloviton/opt/anaconda3/lib/python3.9/site-packages/torch']\n"
     ]
    }
   ],
   "source": [
    "import torch\n",
    "print(torch.__version__)\n",
    "print(torch.__path__)"
   ]
  },
  {
   "cell_type": "raw",
   "id": "509b05bd-930d-451a-8fc2-5b926942275e",
   "metadata": {},
   "source": [
    "pdf slides : https://perso.telecom-paristech.fr/gpeeters/doc/pytorch/#16"
   ]
  },
  {
   "cell_type": "markdown",
   "id": "a38621be-c6c7-44fc-985b-abdf8e030b8a",
   "metadata": {
    "tags": []
   },
   "source": [
    "## Torch Tensors"
   ]
  },
  {
   "cell_type": "markdown",
   "id": "543942f5-7531-44cb-b3f0-04d716803ae6",
   "metadata": {
    "tags": []
   },
   "source": [
    "### Creating a tensor"
   ]
  },
  {
   "cell_type": "code",
   "execution_count": 3,
   "id": "cdf159ac-dbd3-4be6-b909-d6f0c4757df2",
   "metadata": {},
   "outputs": [
    {
     "name": "stdout",
     "output_type": "stream",
     "text": [
      "tensor([[5.5000, 3.0000],\n",
      "        [2.0000, 1.0000]], dtype=torch.float64)\n",
      "torch.Size([2, 2])\n"
     ]
    }
   ],
   "source": [
    "x = torch.tensor([[5.5, 3],[2, 1]], dtype=torch.float32) # --- or float\n",
    "x = torch.tensor([[5.5, 3],[2, 1]], dtype=torch.float64) # --- or double\n",
    "print(x)\n",
    "print(x.size())"
   ]
  },
  {
   "cell_type": "code",
   "execution_count": 4,
   "id": "cda64ffa-637c-46af-9640-f8b71b46c554",
   "metadata": {},
   "outputs": [
    {
     "name": "stdout",
     "output_type": "stream",
     "text": [
      "torch.Size([4, 4]) torch.Size([16]) torch.Size([2, 8])\n"
     ]
    }
   ],
   "source": [
    "x = torch.randn(4,4)\n",
    "y = x.view(16)\n",
    "z = x.view(-1, 8)   # --- ues '-1' when you want the relative shape to be infered automaticallly\n",
    "print(x.size(), y.size(), z.size())"
   ]
  },
  {
   "cell_type": "markdown",
   "id": "b0cec464-8541-41d0-bb86-d64e3d35cc0a",
   "metadata": {
    "tags": []
   },
   "source": [
    "### Various ways of creating tensors"
   ]
  },
  {
   "cell_type": "code",
   "execution_count": 6,
   "id": "c1bad7eb-91f1-41d9-b46b-2b79d399d729",
   "metadata": {},
   "outputs": [
    {
     "name": "stdout",
     "output_type": "stream",
     "text": [
      "Using matplotlib backend: MacOSX\n",
      "Populating the interactive namespace from numpy and matplotlib\n"
     ]
    },
    {
     "name": "stderr",
     "output_type": "stream",
     "text": [
      "/Users/pierreloviton/opt/anaconda3/lib/python3.9/site-packages/torch/nn/functional.py:1949: UserWarning: nn.functional.tanh is deprecated. Use torch.tanh instead.\n",
      "  warnings.warn(\"nn.functional.tanh is deprecated. Use torch.tanh instead.\")\n"
     ]
    },
    {
     "data": {
      "text/plain": [
       "5"
      ]
     },
     "execution_count": 6,
     "metadata": {},
     "output_type": "execute_result"
    }
   ],
   "source": [
    "%pylab\n",
    "import torch.nn\n",
    "\n",
    "x = torch.arange(-10, 10, 0.1)\n",
    "plot(x.numpy(), torch.nn.Tanh()(x).numpy());\n",
    "plot(x.numpy(), torch.nn.functional.tanh(x).numpy());\n",
    "\n",
    "x = torch.Tensor(2, 3)\n",
    "x = torch.rand(2, 3)\n",
    "x = torch.randn(2, 3)\n",
    "x = torch.eye(3)\n",
    "x = torch.ones(10)\n",
    "x = torch.ones(2,3)\n",
    "x = torch.zeros(10)\n",
    "x = torch.ones_like(x)\n",
    "x = torch.arange(5)\n",
    "x = torch.arange(0, 5, step=1)\n",
    "x = torch.linspace(1, 10, steps=10)\n",
    "x = torch.logspace(start=-10, end=10, steps=5)\n",
    "\n",
    "x.size()\n",
    "torch.numel(x)    # get the total number of elements in the tensor"
   ]
  },
  {
   "cell_type": "markdown",
   "id": "7fe55275-cd05-442f-a1d7-29ae6f8bd9de",
   "metadata": {
    "jp-MarkdownHeadingCollapsed": true,
    "tags": []
   },
   "source": [
    "## Tensor Dimensions"
   ]
  },
  {
   "cell_type": "raw",
   "id": "e909d7a0-92a2-4b4b-869d-67f15a23b40d",
   "metadata": {},
   "source": [
    "MATRICES ARE STORED ROW BY ROW: [[row1],[row2],[row3]]"
   ]
  },
  {
   "cell_type": "code",
   "execution_count": 15,
   "id": "b9216aa7-522f-4980-b819-4d9bec385180",
   "metadata": {},
   "outputs": [
    {
     "data": {
      "text/plain": [
       "tensor([[0, 1, 2],\n",
       "        [3, 4, 5]])"
      ]
     },
     "execution_count": 15,
     "metadata": {},
     "output_type": "execute_result"
    }
   ],
   "source": [
    "v = torch.arange(0,6).view(2,3)\n",
    "v"
   ]
  },
  {
   "cell_type": "code",
   "execution_count": 17,
   "id": "4fab61e4-4f67-48cf-9eea-45d9150688fd",
   "metadata": {},
   "outputs": [
    {
     "data": {
      "text/plain": [
       "tensor([0, 1, 2])"
      ]
     },
     "execution_count": 17,
     "metadata": {},
     "output_type": "execute_result"
    }
   ],
   "source": [
    "v[0]    # --- return the first row"
   ]
  },
  {
   "cell_type": "code",
   "execution_count": 18,
   "id": "2af6b551-77ab-4b7f-872a-f21dcc5127e0",
   "metadata": {},
   "outputs": [
    {
     "data": {
      "text/plain": [
       "tensor(2)"
      ]
     },
     "execution_count": 18,
     "metadata": {},
     "output_type": "execute_result"
    }
   ],
   "source": [
    "v[0][2] # --- second elements in first row"
   ]
  },
  {
   "cell_type": "code",
   "execution_count": 23,
   "id": "34abffc5-2cb0-491c-b000-24bda88005a7",
   "metadata": {},
   "outputs": [
    {
     "data": {
      "text/plain": [
       "tensor(2)"
      ]
     },
     "execution_count": 23,
     "metadata": {},
     "output_type": "execute_result"
    }
   ],
   "source": [
    "v[0,2]  # --- same as above"
   ]
  },
  {
   "cell_type": "code",
   "execution_count": 20,
   "id": "d6b07bf7-fe1f-4e13-a0ab-525317dbb09f",
   "metadata": {},
   "outputs": [
    {
     "data": {
      "text/plain": [
       "tensor([0, 1, 2])"
      ]
     },
     "execution_count": 20,
     "metadata": {},
     "output_type": "execute_result"
    }
   ],
   "source": [
    "v[0,:]    # --- return all elements of the first row"
   ]
  },
  {
   "cell_type": "code",
   "execution_count": 21,
   "id": "6d1ac694-40e6-44a3-a593-f0da082f3849",
   "metadata": {},
   "outputs": [
    {
     "data": {
      "text/plain": [
       "tensor([0, 2])"
      ]
     },
     "execution_count": 21,
     "metadata": {},
     "output_type": "execute_result"
    }
   ],
   "source": [
    "v[:,0]    # --- return all elements of the first column"
   ]
  },
  {
   "cell_type": "code",
   "execution_count": 24,
   "id": "9ad7228b-4b0e-451d-9434-7b9591415208",
   "metadata": {},
   "outputs": [
    {
     "data": {
      "text/plain": [
       "tensor([2, 2, 2])"
      ]
     },
     "execution_count": 24,
     "metadata": {},
     "output_type": "execute_result"
    }
   ],
   "source": [
    "v[1].fill_(2)   # --- fill with a 2 the 2nd line"
   ]
  },
  {
   "cell_type": "markdown",
   "id": "2175d832-4614-456e-ab03-d627271d62e2",
   "metadata": {
    "jp-MarkdownHeadingCollapsed": true,
    "tags": []
   },
   "source": [
    "## From / To numpy"
   ]
  },
  {
   "cell_type": "markdown",
   "id": "aeafcbfd-ad61-4248-87e9-aa18ce69f90b",
   "metadata": {
    "jp-MarkdownHeadingCollapsed": true,
    "tags": []
   },
   "source": [
    "### Torch to Numpy: .numpy()"
   ]
  },
  {
   "cell_type": "code",
   "execution_count": 26,
   "id": "14c75652-5653-4bff-af22-333030167be6",
   "metadata": {},
   "outputs": [
    {
     "name": "stdout",
     "output_type": "stream",
     "text": [
      "<class 'numpy.ndarray'>\n",
      "float64\n",
      "[[1. 1. 1. 1. 1.]\n",
      " [1. 1. 1. 1. 1.]]\n"
     ]
    }
   ],
   "source": [
    "a = torch.ones(2,5, dtype=torch.float64)\n",
    "b = a.numpy()\n",
    "\n",
    "print(type(b))\n",
    "\n",
    "print(b.dtype)\n",
    "\n",
    "print(b)"
   ]
  },
  {
   "cell_type": "markdown",
   "id": "fcdb22fb-7197-4b05-bfb0-c8881406382a",
   "metadata": {
    "jp-MarkdownHeadingCollapsed": true,
    "tags": []
   },
   "source": [
    "### Numpy to Torch: .from_numpy()"
   ]
  },
  {
   "cell_type": "code",
   "execution_count": 31,
   "id": "4f9c89f7-9a04-4fd3-9977-e40809d6a398",
   "metadata": {},
   "outputs": [
    {
     "name": "stdout",
     "output_type": "stream",
     "text": [
      "[[1 1 1 1 1]\n",
      " [1 1 1 1 1]]\n",
      "[[2 2 2 2 2]\n",
      " [2 2 2 2 2]]\n",
      "tensor([[2, 2, 2, 2, 2],\n",
      "        [2, 2, 2, 2, 2]], dtype=torch.int32)\n"
     ]
    }
   ],
   "source": [
    "a = np.ones((2,5)) # --- by default uses dtype=np.float64\n",
    "a = np.ones((2,5), dtype=np.int32)\n",
    "b = torch.from_numpy(a)  \n",
    "print(a)\n",
    "\n",
    "np.add(a, 1, out=a)  # --- add 1 to a\n",
    "\n",
    "print(a)\n",
    "\n",
    "print(b)"
   ]
  },
  {
   "cell_type": "markdown",
   "id": "79bce393-2385-4809-941b-e53420073433",
   "metadata": {
    "tags": []
   },
   "source": [
    "## Operators"
   ]
  },
  {
   "cell_type": "raw",
   "id": "b25eca41-4da8-48bf-aef2-679ea01b9ce9",
   "metadata": {},
   "source": [
    "see https://jhui.github.io/2018/02/09/PyTorch-Basic-operations/"
   ]
  },
  {
   "cell_type": "markdown",
   "id": "e1c2911c-765d-4046-855d-2005d9d2f4cf",
   "metadata": {
    "tags": []
   },
   "source": [
    "### Addition"
   ]
  },
  {
   "cell_type": "markdown",
   "id": "e1561b3d-1239-4efe-af5d-f2783c747095",
   "metadata": {},
   "source": [
    "x = torch.Tensor(2, 3)\n",
    "y = torch.rand(2, 3)\n",
    "\n",
    "z1 = x + y\n",
    "z2 = torch.add(x, y)\n",
    "\n",
    "r1 = torch.Tensor(2, 3)\n",
    "torch.add(x, y, out=r1)"
   ]
  },
  {
   "cell_type": "raw",
   "id": "8316eaeb-4d5f-40c9-9fdd-ea9321bd339e",
   "metadata": {},
   "source": [
    "In-place operation: all operations end with “_” is in place operations"
   ]
  },
  {
   "cell_type": "code",
   "execution_count": 65,
   "id": "0a218ad3-3433-40df-8f1d-3b8138a11d78",
   "metadata": {},
   "outputs": [
    {
     "data": {
      "text/plain": [
       "tensor([[6.2509e-01, 8.5899e+09, 1.3019e+00],\n",
       "        [1.0309e+00, 7.7303e-01, 7.1378e-01]])"
      ]
     },
     "execution_count": 65,
     "metadata": {},
     "output_type": "execute_result"
    }
   ],
   "source": [
    "x.add_(y)   # Same as x = x + y"
   ]
  },
  {
   "cell_type": "markdown",
   "id": "fc4e3570-6334-4279-bc0c-b347cfa65983",
   "metadata": {
    "tags": []
   },
   "source": [
    "## Matrix operators"
   ]
  },
  {
   "cell_type": "markdown",
   "id": "e5162ea1-e945-4943-8ba9-10ad1269768c",
   "metadata": {
    "tags": []
   },
   "source": [
    "### Dot product of 2 tensors: torch.dot"
   ]
  },
  {
   "cell_type": "code",
   "execution_count": 72,
   "id": "c853db6e-9926-4a58-863f-5dd6c7b99a4e",
   "metadata": {},
   "outputs": [],
   "source": [
    "vec1 = torch.ones(10)\n",
    "vec2 = 2*torch.ones(10)\n",
    "r = torch.dot(vec1,vec2)\n",
    "r = vec1 @ vec2"
   ]
  },
  {
   "cell_type": "code",
   "execution_count": 76,
   "id": "ca90bdf9-657c-4997-be76-b04c42c96906",
   "metadata": {},
   "outputs": [
    {
     "name": "stdout",
     "output_type": "stream",
     "text": [
      "torch.Size([10])\n"
     ]
    }
   ],
   "source": [
    "print(vec1.size())"
   ]
  },
  {
   "cell_type": "code",
   "execution_count": 74,
   "id": "70fb6006-10c5-46db-9b94-4b3daa3a3408",
   "metadata": {},
   "outputs": [
    {
     "name": "stdout",
     "output_type": "stream",
     "text": [
      "torch.Size([10])\n"
     ]
    }
   ],
   "source": [
    "print(vec2.size())"
   ]
  },
  {
   "cell_type": "code",
   "execution_count": 75,
   "id": "c9b89beb-a72e-4d49-bfe3-4a899e838f9c",
   "metadata": {},
   "outputs": [
    {
     "name": "stdout",
     "output_type": "stream",
     "text": [
      "tensor(20.)\n"
     ]
    }
   ],
   "source": [
    "print(r)"
   ]
  },
  {
   "cell_type": "markdown",
   "id": "8908283e-f896-43a5-aecd-8859a366aa46",
   "metadata": {
    "jp-MarkdownHeadingCollapsed": true,
    "tags": []
   },
   "source": [
    "### Matrix, vector products: torch.mv"
   ]
  },
  {
   "cell_type": "code",
   "execution_count": 81,
   "id": "6040ba23-f499-48f4-af13-da156fb98586",
   "metadata": {},
   "outputs": [
    {
     "name": "stdout",
     "output_type": "stream",
     "text": [
      "torch.Size([2])\n"
     ]
    }
   ],
   "source": [
    "mat = torch.randn(2, 4)\n",
    "vec = torch.randn(4)\n",
    "r = torch.mv(mat, vec)\n",
    "r = mat @ vec\n",
    "\n",
    "print(r.size())"
   ]
  },
  {
   "cell_type": "markdown",
   "id": "9f3bdf16-3436-4d55-b34e-fa0de8daebdf",
   "metadata": {
    "tags": []
   },
   "source": [
    "### Matrix, Matrix products: torch.mm"
   ]
  },
  {
   "cell_type": "code",
   "execution_count": 90,
   "id": "715af215-15b1-4dfe-9e53-d40ccdf24ab8",
   "metadata": {},
   "outputs": [],
   "source": [
    "mat1 = torch.ones(5,10)\n",
    "mat2 = torch.ones(10,20)\n",
    "r = torch.mm(mat1, mat2)\n",
    "r = mat1 @ mat2"
   ]
  },
  {
   "cell_type": "code",
   "execution_count": 91,
   "id": "5a8b8d2a-f3e7-45b8-be5a-5b99b6a8f80c",
   "metadata": {},
   "outputs": [
    {
     "name": "stdout",
     "output_type": "stream",
     "text": [
      "torch.Size([5, 10])\n"
     ]
    }
   ],
   "source": [
    "print(mat1.size())"
   ]
  },
  {
   "cell_type": "code",
   "execution_count": 92,
   "id": "28a72904-d30e-4e09-bf19-faed1a9ec92d",
   "metadata": {},
   "outputs": [
    {
     "name": "stdout",
     "output_type": "stream",
     "text": [
      "torch.Size([10, 20])\n"
     ]
    }
   ],
   "source": [
    "print(mat2.size())"
   ]
  },
  {
   "cell_type": "code",
   "execution_count": 94,
   "id": "730f90a5-48f1-424e-b88c-574b036eafaa",
   "metadata": {},
   "outputs": [
    {
     "name": "stdout",
     "output_type": "stream",
     "text": [
      "torch.Size([5, 20])\n"
     ]
    }
   ],
   "source": [
    "print(r.size())"
   ]
  },
  {
   "cell_type": "markdown",
   "id": "f36b4e58-e2e8-4834-943d-c2c7699091c0",
   "metadata": {
    "jp-MarkdownHeadingCollapsed": true,
    "tags": []
   },
   "source": [
    "### Element-wise multiplication.mul"
   ]
  },
  {
   "cell_type": "code",
   "execution_count": 95,
   "id": "ec60b926-1301-4877-b058-8d6144711bc0",
   "metadata": {},
   "outputs": [
    {
     "name": "stdout",
     "output_type": "stream",
     "text": [
      "torch.Size([5, 10])\n"
     ]
    }
   ],
   "source": [
    "mat1 = torch.ones(5,10)\n",
    "mat2 = 2*torch.ones(5,10)\n",
    "r = torch.mul(mat1,mat2)\n",
    "r = mat1 * mat2\n",
    "\n",
    "print(r.size())"
   ]
  },
  {
   "cell_type": "markdown",
   "id": "3fc5adb7-6210-4cac-a321-4694319008aa",
   "metadata": {
    "jp-MarkdownHeadingCollapsed": true,
    "tags": []
   },
   "source": [
    "### torch.matmul"
   ]
  },
  {
   "cell_type": "raw",
   "id": "07da825d-7ca2-47b2-8f24-9d118a0dfa28",
   "metadata": {},
   "source": [
    "-> a mix of all the previous functions, slides 13 of the pdf"
   ]
  },
  {
   "cell_type": "markdown",
   "id": "0537a6b0-1235-4f2b-802e-549ed645bf16",
   "metadata": {
    "jp-MarkdownHeadingCollapsed": true,
    "tags": []
   },
   "source": [
    "### Broadcasting"
   ]
  },
  {
   "cell_type": "raw",
   "id": "b49471ef-3fdb-4a7d-8cf9-8139f01216fa",
   "metadata": {},
   "source": [
    "- refers to how pytorch treats arrays with different dimension during arithmetic operations which lead to certain constraints,\n",
    "- the smaller array is broadcast across the larger array so that they have compatible shapes."
   ]
  },
  {
   "cell_type": "code",
   "execution_count": 96,
   "id": "7c68b33a-8083-42a7-9017-c536ca828b98",
   "metadata": {},
   "outputs": [
    {
     "name": "stdout",
     "output_type": "stream",
     "text": [
      "torch.Size([5, 10])\n"
     ]
    }
   ],
   "source": [
    "matA = torch.ones(5,10)\n",
    "matB = torch.ones(5,1)\n",
    "print( (matA + matB).size() )"
   ]
  },
  {
   "cell_type": "code",
   "execution_count": 97,
   "id": "add4a193-05b9-4a94-8dbb-e6c28beb94f7",
   "metadata": {},
   "outputs": [
    {
     "ename": "RuntimeError",
     "evalue": "The size of tensor a (10) must match the size of tensor b (5) at non-singleton dimension 1",
     "output_type": "error",
     "traceback": [
      "\u001b[0;31m---------------------------------------------------------------------------\u001b[0m",
      "\u001b[0;31mRuntimeError\u001b[0m                              Traceback (most recent call last)",
      "\u001b[0;32m/var/folders/f0/q7nn178n5cldx0lvl6yvbbn40000gn/T/ipykernel_30861/1511288317.py\u001b[0m in \u001b[0;36m<module>\u001b[0;34m\u001b[0m\n\u001b[1;32m      1\u001b[0m \u001b[0mmatA\u001b[0m \u001b[0;34m=\u001b[0m \u001b[0mtorch\u001b[0m\u001b[0;34m.\u001b[0m\u001b[0mones\u001b[0m\u001b[0;34m(\u001b[0m\u001b[0;36m5\u001b[0m\u001b[0;34m,\u001b[0m\u001b[0;36m10\u001b[0m\u001b[0;34m)\u001b[0m\u001b[0;34m\u001b[0m\u001b[0;34m\u001b[0m\u001b[0m\n\u001b[1;32m      2\u001b[0m \u001b[0mvecB\u001b[0m \u001b[0;34m=\u001b[0m \u001b[0mtorch\u001b[0m\u001b[0;34m.\u001b[0m\u001b[0mones\u001b[0m\u001b[0;34m(\u001b[0m\u001b[0;36m5\u001b[0m\u001b[0;34m)\u001b[0m\u001b[0;34m\u001b[0m\u001b[0;34m\u001b[0m\u001b[0m\n\u001b[0;32m----> 3\u001b[0;31m \u001b[0mprint\u001b[0m\u001b[0;34m(\u001b[0m \u001b[0;34m(\u001b[0m\u001b[0mmatA\u001b[0m \u001b[0;34m+\u001b[0m \u001b[0mvecB\u001b[0m\u001b[0;34m)\u001b[0m\u001b[0;34m.\u001b[0m\u001b[0msize\u001b[0m\u001b[0;34m(\u001b[0m\u001b[0;34m)\u001b[0m \u001b[0;34m)\u001b[0m\u001b[0;34m\u001b[0m\u001b[0;34m\u001b[0m\u001b[0m\n\u001b[0m",
      "\u001b[0;31mRuntimeError\u001b[0m: The size of tensor a (10) must match the size of tensor b (5) at non-singleton dimension 1"
     ]
    }
   ],
   "source": [
    "matA = torch.ones(5,10)\n",
    "vecB = torch.ones(5)\n",
    "print( (matA + vecB).size() )"
   ]
  },
  {
   "cell_type": "code",
   "execution_count": 98,
   "id": "6db3d191-08bf-4e30-936b-ec0effcb86f1",
   "metadata": {},
   "outputs": [
    {
     "name": "stdout",
     "output_type": "stream",
     "text": [
      "torch.Size([5, 10])\n"
     ]
    }
   ],
   "source": [
    "matA = torch.ones(5,10)\n",
    "matC = torch.ones(1,10)\n",
    "print( (matA + matC).size() )"
   ]
  },
  {
   "cell_type": "code",
   "execution_count": 99,
   "id": "ae57539d-34aa-4f4c-bb89-ed196f8c5854",
   "metadata": {},
   "outputs": [
    {
     "name": "stdout",
     "output_type": "stream",
     "text": [
      "torch.Size([5, 10])\n"
     ]
    }
   ],
   "source": [
    "matA = torch.ones(5,10)\n",
    "vecC = torch.ones(10)\n",
    "print( (matA + vecC).size() )"
   ]
  },
  {
   "cell_type": "markdown",
   "id": "7f004c1f-ba9f-4a09-bc5e-1ee3804797d3",
   "metadata": {},
   "source": [
    "## Autograd"
   ]
  },
  {
   "cell_type": "raw",
   "id": "41eeda2f-9e32-4130-9f73-cc897308b9fc",
   "metadata": {},
   "source": [
    "Autograd provides automatic differentiation for all operations on Tensors."
   ]
  },
  {
   "cell_type": "raw",
   "id": "cf1e898a-be97-4619-b0a7-f0f2ff054250",
   "metadata": {},
   "source": [
    "Introduction: https://pytorch.org/tutorials/beginner/blitz/autograd_tutorial.html"
   ]
  },
  {
   "cell_type": "raw",
   "id": "6881f7fb-df6c-4fd4-a407-180420273aa9",
   "metadata": {},
   "source": [
    "Example : slide 16 pdf"
   ]
  },
  {
   "cell_type": "code",
   "execution_count": null,
   "id": "8554f9b0-d1bf-4631-a310-3afa59b03c3f",
   "metadata": {},
   "outputs": [],
   "source": []
  }
 ],
 "metadata": {
  "kernelspec": {
   "display_name": "Python 3 (ipykernel)",
   "language": "python",
   "name": "python3"
  },
  "language_info": {
   "codemirror_mode": {
    "name": "ipython",
    "version": 3
   },
   "file_extension": ".py",
   "mimetype": "text/x-python",
   "name": "python",
   "nbconvert_exporter": "python",
   "pygments_lexer": "ipython3",
   "version": "3.9.7"
  }
 },
 "nbformat": 4,
 "nbformat_minor": 5
}
